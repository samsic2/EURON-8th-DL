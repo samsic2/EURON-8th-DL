{
  "cells": [
    {
      "cell_type": "markdown",
      "id": "052fd4fd-95ee-4ccc-b6d9-d13f2b80463a",
      "metadata": {
        "id": "052fd4fd-95ee-4ccc-b6d9-d13f2b80463a"
      },
      "source": [
        "## ViT"
      ]
    },
    {
      "cell_type": "code",
      "execution_count": 1,
      "id": "8f659047-b627-436c-b55a-5f37d9719de6",
      "metadata": {
        "id": "8f659047-b627-436c-b55a-5f37d9719de6"
      },
      "outputs": [],
      "source": [
        "### FashionMNIST 다운로드\n",
        "from itertools import chain\n",
        "from collections import defaultdict\n",
        "from torch.utils.data import Subset\n",
        "from torchvision import datasets"
      ]
    },
    {
      "cell_type": "markdown",
      "id": "dca37e35-0621-404f-b81b-2543ab3a8cb1",
      "metadata": {
        "id": "dca37e35-0621-404f-b81b-2543ab3a8cb1"
      },
      "source": [
        "- from itertools import chain\n",
        "  - 여러 iterable(리스트, 튜플 등)을 연결해서 하나의 iterator로\n",
        "  - 단순 + 보다 메모리 효율이 좋음\n",
        "- from collections import defaultdict\n",
        "  - 딕셔너리에 키가 없어도 기본값을 자동으로 생성"
      ]
    },
    {
      "cell_type": "code",
      "execution_count": 2,
      "id": "94d903ba-1ded-4b5c-96e4-ee9802f1ecd9",
      "metadata": {
        "colab": {
          "base_uri": "https://localhost:8080/"
        },
        "id": "94d903ba-1ded-4b5c-96e4-ee9802f1ecd9",
        "outputId": "f1d886dd-63f1-4da6-bdb9-2c845a20e8e5"
      },
      "outputs": [
        {
          "output_type": "stream",
          "name": "stdout",
          "text": [
            "defaultdict(<class 'list'>, {'a': [1, 2], 'b': [3]})\n"
          ]
        }
      ],
      "source": [
        "### from collections import defaultdict\n",
        "\n",
        "# 기본값이 list인 딕셔너리\n",
        "d = defaultdict(list)\n",
        "\n",
        "d['a'].append(1)\n",
        "d['a'].append(2)\n",
        "d['b'].append(3)\n",
        "\n",
        "print(d)  ## defaultdict(<class 'list'>, {'a': [1, 2], 'b': [3]})"
      ]
    },
    {
      "cell_type": "code",
      "execution_count": 3,
      "id": "b924d5f4-8ffa-4fef-9804-9bc7762314c2",
      "metadata": {
        "colab": {
          "base_uri": "https://localhost:8080/"
        },
        "id": "b924d5f4-8ffa-4fef-9804-9bc7762314c2",
        "outputId": "d4b6fa24-981e-4a8e-bd28-d995d2b52b02"
      },
      "outputs": [
        {
          "output_type": "stream",
          "name": "stderr",
          "text": [
            "100%|██████████| 26.4M/26.4M [00:02<00:00, 10.4MB/s]\n",
            "100%|██████████| 29.5k/29.5k [00:00<00:00, 202kB/s]\n",
            "100%|██████████| 4.42M/4.42M [00:01<00:00, 3.73MB/s]\n",
            "100%|██████████| 5.15k/5.15k [00:00<00:00, 15.9MB/s]\n",
            "/usr/local/lib/python3.11/dist-packages/torchvision/datasets/mnist.py:66: UserWarning: train_labels has been renamed targets\n",
            "  warnings.warn(\"train_labels has been renamed targets\")\n"
          ]
        },
        {
          "output_type": "stream",
          "name": "stdout",
          "text": [
            "['T-shirt/top', 'Trouser', 'Pullover', 'Dress', 'Coat', 'Sandal', 'Shirt', 'Sneaker', 'Bag', 'Ankle boot']\n",
            "{'T-shirt/top': 0, 'Trouser': 1, 'Pullover': 2, 'Dress': 3, 'Coat': 4, 'Sandal': 5, 'Shirt': 6, 'Sneaker': 7, 'Bag': 8, 'Ankle boot': 9}\n",
            "Training Data Size : 10000\n",
            "Testing Data Size : 1000\n",
            "(<PIL.Image.Image image mode=L size=28x28 at 0x7899A129A090>, 9)\n"
          ]
        }
      ],
      "source": [
        "def subset_sampler(dataset, classes, max_len):\n",
        "    target_idx = defaultdict(list)\n",
        "    for idx, label in enumerate(dataset.train_labels):\n",
        "        target_idx[int(label)].append(idx)\n",
        "\n",
        "    indices = list(\n",
        "        chain.from_iterable(\n",
        "            [target_idx[idx][:max_len] for idx in range(len(classes))]\n",
        "        )\n",
        "    )\n",
        "    return Subset(dataset, indices)\n",
        "\n",
        "\n",
        "train_dataset = datasets.FashionMNIST(root=\"../datasets\", download=True, train=True)\n",
        "test_dataset = datasets.FashionMNIST(root=\"../datasets\", download=True, train=False)\n",
        "\n",
        "classes = train_dataset.classes\n",
        "class_to_idx = train_dataset.class_to_idx\n",
        "\n",
        "print(classes)\n",
        "print(class_to_idx)\n",
        "\n",
        "subset_train_dataset = subset_sampler(\n",
        "    dataset=train_dataset, classes=train_dataset.classes, max_len=1000\n",
        ")\n",
        "subset_test_dataset = subset_sampler(\n",
        "    dataset=test_dataset, classes=test_dataset.classes, max_len=100\n",
        ")\n",
        "\n",
        "print(f\"Training Data Size : {len(subset_train_dataset)}\")\n",
        "print(f\"Testing Data Size : {len(subset_test_dataset)}\")\n",
        "print(train_dataset[0])"
      ]
    },
    {
      "cell_type": "code",
      "execution_count": 4,
      "id": "c5458960-b04e-4baf-98ad-bd2f9ec35fdf",
      "metadata": {
        "colab": {
          "base_uri": "https://localhost:8080/",
          "height": 287,
          "referenced_widgets": [
            "6bffa7742d3149c0b58b2ee2acf2b105",
            "bbb337df0e564c8689b90dba45aac999",
            "6fa098b6e47448489152df9cb6497247",
            "d8293b6cf7ba4a748447a6d51f371331",
            "f645b6edbb4c4210a58a525fb5624046",
            "dc6d4f4e5610499db20e6f20422cf2f5",
            "8e2dac3acf3e44b189570d0a5881de40",
            "fcccc585617a487c82c4c29711841150",
            "f320f3f7069949c88387551bbf8a4830",
            "6f749728eba341c1946d28a8933ecec4",
            "a52b9edd8f624154a4a9925d5c486d07",
            "d5cceddce4824549b6a25fa66cc55d56",
            "ed3f8263e2cb422abe58fc40509d026b",
            "d13f9363b80a4592b2f2322ba781cb8c",
            "e2b9e98f28754242b80b7f83e5b14676",
            "c2a9e288af2043c9b11f82cef299adc1",
            "6631ba06cf084306b3c2a0ad7f19db3c",
            "2c82892ad6ea43d8ab04b314dd2dca95",
            "f27e57027e664fe8ac95ab7a9a72b6cb",
            "7230a99526214dc58fbb00ccc9249391",
            "3585d83b568d4643b1349dc4532f60ae",
            "90d4cb7d1e764bbbb741e031c6c49689"
          ]
        },
        "id": "c5458960-b04e-4baf-98ad-bd2f9ec35fdf",
        "outputId": "219880eb-6ac2-4272-fac3-d56f14827dc4"
      },
      "outputs": [
        {
          "output_type": "stream",
          "name": "stderr",
          "text": [
            "/usr/local/lib/python3.11/dist-packages/huggingface_hub/utils/_auth.py:94: UserWarning: \n",
            "The secret `HF_TOKEN` does not exist in your Colab secrets.\n",
            "To authenticate with the Hugging Face Hub, create a token in your settings tab (https://huggingface.co/settings/tokens), set it as secret in your Google Colab and restart your session.\n",
            "You will be able to reuse this secret in all of your notebooks.\n",
            "Please note that authentication is recommended but still optional to access public models or datasets.\n",
            "  warnings.warn(\n"
          ]
        },
        {
          "output_type": "display_data",
          "data": {
            "text/plain": [
              "preprocessor_config.json:   0%|          | 0.00/160 [00:00<?, ?B/s]"
            ],
            "application/vnd.jupyter.widget-view+json": {
              "version_major": 2,
              "version_minor": 0,
              "model_id": "6bffa7742d3149c0b58b2ee2acf2b105"
            }
          },
          "metadata": {}
        },
        {
          "output_type": "display_data",
          "data": {
            "text/plain": [
              "config.json:   0%|          | 0.00/502 [00:00<?, ?B/s]"
            ],
            "application/vnd.jupyter.widget-view+json": {
              "version_major": 2,
              "version_minor": 0,
              "model_id": "d5cceddce4824549b6a25fa66cc55d56"
            }
          },
          "metadata": {}
        },
        {
          "output_type": "stream",
          "name": "stderr",
          "text": [
            "Fast image processor class <class 'transformers.models.vit.image_processing_vit_fast.ViTImageProcessorFast'> is available for this model. Using slow image processor class. To use the fast image processor class set `use_fast=True`.\n"
          ]
        },
        {
          "output_type": "stream",
          "name": "stdout",
          "text": [
            "size : {'height': 224, 'width': 224}\n",
            "mean : [0.5, 0.5, 0.5]\n",
            "std : [0.5, 0.5, 0.5]\n"
          ]
        }
      ],
      "source": [
        "### 이미지 전처리\n",
        "\n",
        "import torch\n",
        "from torchvision import transforms\n",
        "from transformers import AutoImageProcessor\n",
        "\n",
        "\n",
        "image_processor = AutoImageProcessor.from_pretrained(\n",
        "    pretrained_model_name_or_path=\"google/vit-base-patch16-224-in21k\"\n",
        ")\n",
        "\n",
        "transform = transforms.Compose(\n",
        "    [\n",
        "        transforms.ToTensor(),\n",
        "        transforms.Resize(\n",
        "            size=(\n",
        "                image_processor.size[\"height\"],\n",
        "                image_processor.size[\"width\"]\n",
        "            )\n",
        "        ),\n",
        "        transforms.Lambda(\n",
        "            lambda x: torch.cat([x, x, x], 0)\n",
        "        ),\n",
        "        transforms.Normalize(\n",
        "            mean=image_processor.image_mean,\n",
        "            std=image_processor.image_std\n",
        "        )\n",
        "    ]\n",
        ")\n",
        "\n",
        "print(f\"size : {image_processor.size}\")\n",
        "print(f\"mean : {image_processor.image_mean}\")\n",
        "print(f\"std : {image_processor.image_std}\")"
      ]
    },
    {
      "cell_type": "markdown",
      "id": "8ea240dd-de4e-4595-a52d-90b8150ac4f1",
      "metadata": {
        "id": "8ea240dd-de4e-4595-a52d-90b8150ac4f1"
      },
      "source": [
        "- transforms.Lambda(lambda x: torch.cat([x, x, x], 0)\n",
        "  - 흑백 1채널 이미지 -> 3번 복사해 3채널 이미지로 변환\n",
        "  - 채널 정보를 늘리는 것일 뿐, 진짜 RGB 변환은 아님\n",
        "  - 입력이 3채널이어야만 작동하는 모델에 에러 없이 넣어주기 위함"
      ]
    },
    {
      "cell_type": "markdown",
      "id": "f7c06648-8a6c-4996-ab1a-350fbeb0077e",
      "metadata": {
        "id": "f7c06648-8a6c-4996-ab1a-350fbeb0077e"
      },
      "source": [
        "- ViT 모델의 입력: {\"pixel_values\": pixel_values, \"Labels\": labels}의 형태\n",
        "  - Tensor 형식의 데이터가 아닌, 딕셔너리 형식의 데이터를 입력으로 받음\n",
        "  - 데이터로더에 집합 함수(collate_fn)를 적용해 여러 개의 (image, label) 샘플을 하나의 배치로 묶음\n",
        "  - 이 함수로 ViT 모델 구조에 맞는 딕셔너리 형태로 변환해 데이터로더에 적용"
      ]
    },
    {
      "cell_type": "code",
      "execution_count": 5,
      "id": "f52b8d0f-8062-4440-bac7-9e61e128591b",
      "metadata": {
        "colab": {
          "base_uri": "https://localhost:8080/"
        },
        "id": "f52b8d0f-8062-4440-bac7-9e61e128591b",
        "outputId": "4d7ad754-9bf7-48e6-f87b-ac25964fbfdf"
      },
      "outputs": [
        {
          "output_type": "stream",
          "name": "stdout",
          "text": [
            "pixel_values : torch.Size([32, 3, 224, 224])\n",
            "labels : torch.Size([32])\n"
          ]
        }
      ],
      "source": [
        "from torch.utils.data import DataLoader\n",
        "\n",
        "def collator(data, transform):\n",
        "    images, labels = zip(*data)\n",
        "    pixel_values = torch.stack([transform(image) for image in images])\n",
        "    # transform: 앞서 정의한 전처리 함수\n",
        "    labels = torch.tensor([label for label in labels])\n",
        "    return {\"pixel_values\": pixel_values, \"labels\": labels}\n",
        "\n",
        "train_dataloader = DataLoader(\n",
        "    subset_train_dataset,\n",
        "    batch_size=32,\n",
        "    shuffle=True,\n",
        "    collate_fn=lambda x: collator(x, transform),\n",
        "    drop_last=True\n",
        ")\n",
        "valid_dataloader = DataLoader(\n",
        "    subset_test_dataset,\n",
        "    batch_size=4,\n",
        "    shuffle=True,\n",
        "    collate_fn=lambda x: collator(x, transform),\n",
        "    drop_last=True\n",
        ")\n",
        "\n",
        "batch = next(iter(train_dataloader))\n",
        "for key, value in batch.items():\n",
        "    print(f\"{key} : {value.shape}\")"
      ]
    },
    {
      "cell_type": "code",
      "execution_count": 6,
      "id": "254d2dda-c088-4e85-8e77-711bb788e417",
      "metadata": {
        "colab": {
          "base_uri": "https://localhost:8080/",
          "height": 125,
          "referenced_widgets": [
            "5d33318c65374cf9945e32dca13fc800",
            "d0733e1ad9db4fba8833a4dd2213f048",
            "6afa7dc1c15943228f1fc1a3b6341f5a",
            "4586d419636746a987091571f6c3303b",
            "8e98a99b275e4d4e893f05e65ae4a4c5",
            "bf60bc11ab2848248f3c5f548d5de591",
            "dd5319fc8d1c4eb6b1b9de34f69897ef",
            "1dc8837a2da946e08fb9fba98a26f2d6",
            "957195597c1745c49f82481fc0fe2fc5",
            "bc5b8120fecf4d52801d909c9b87c2fd",
            "7c5a21c44654417ea6f1402dd1960ed0"
          ]
        },
        "id": "254d2dda-c088-4e85-8e77-711bb788e417",
        "outputId": "a2ca6fd3-8feb-426a-d309-486086a98c14"
      },
      "outputs": [
        {
          "output_type": "display_data",
          "data": {
            "text/plain": [
              "model.safetensors:   0%|          | 0.00/346M [00:00<?, ?B/s]"
            ],
            "application/vnd.jupyter.widget-view+json": {
              "version_major": 2,
              "version_minor": 0,
              "model_id": "5d33318c65374cf9945e32dca13fc800"
            }
          },
          "metadata": {}
        },
        {
          "output_type": "stream",
          "name": "stderr",
          "text": [
            "Some weights of ViTForImageClassification were not initialized from the model checkpoint at google/vit-base-patch16-224-in21k and are newly initialized: ['classifier.bias', 'classifier.weight']\n",
            "You should probably TRAIN this model on a down-stream task to be able to use it for predictions and inference.\n"
          ]
        },
        {
          "output_type": "stream",
          "name": "stdout",
          "text": [
            "Linear(in_features=768, out_features=10, bias=True)\n"
          ]
        }
      ],
      "source": [
        "### 사전 학습된 ViT 모델\n",
        "\n",
        "from transformers import ViTForImageClassification\n",
        "\n",
        "model = ViTForImageClassification.from_pretrained(\n",
        "    pretrained_model_name_or_path=\"google/vit-base-patch16-224-in21k\",\n",
        "    num_labels=len(classes),\n",
        "    id2label={idx: label for label, idx in class_to_idx.items()},\n",
        "    label2id=class_to_idx,\n",
        "    ignore_mismatched_sizes=True\n",
        ")\n",
        "print(model.classifier)"
      ]
    },
    {
      "cell_type": "markdown",
      "id": "49aa3577-b859-4734-899a-f15ff957ddf1",
      "metadata": {
        "id": "49aa3577-b859-4734-899a-f15ff957ddf1"
      },
      "source": [
        "- 허깅페이스 라이브러리의 ViT 이미지 분류 모델 클래스(ViTForImageClassification)를 통해 사전 학습된 모델 불러오기\n",
        "- 매개 변수를 통해 ViT 이미지 분류 모델 클래스 파인튜닝: 현재 데이터셋에 적합한 구조로\n",
        "  - num_lables: 레이블 개수\n",
        "  - id2label: ID/레이블\n",
        "  - label2id: 레이블/ID\n",
        "- 출력 결과에서 분류기(classifier)의 출력 데이터 차원 크기를 10개로 반환함을 확인할 수 O\n",
        "- class_to_idx: torchvision의 ImageFolder에서 자동 생성됨\n",
        "  ```\n",
        "  class_to_idx = {\n",
        "    \"cat\": 0,\n",
        "    \"dog\": 1,\n",
        "    \"elephant\": 2\n",
        "    }\n",
        "  ```"
      ]
    },
    {
      "cell_type": "code",
      "execution_count": 7,
      "id": "0b36e2ca-cfb1-4f64-88e5-ca0a2621ff93",
      "metadata": {
        "colab": {
          "base_uri": "https://localhost:8080/"
        },
        "id": "0b36e2ca-cfb1-4f64-88e5-ca0a2621ff93",
        "outputId": "af91581f-3a19-44ce-c384-df16a1a74e26"
      },
      "outputs": [
        {
          "output_type": "stream",
          "name": "stdout",
          "text": [
            "ViTEmbeddings(\n",
            "  (patch_embeddings): ViTPatchEmbeddings(\n",
            "    (projection): Conv2d(3, 768, kernel_size=(16, 16), stride=(16, 16))\n",
            "  )\n",
            "  (dropout): Dropout(p=0.0, inplace=False)\n",
            ")\n",
            "image shape : torch.Size([32, 3, 224, 224])\n",
            "patch embeddings shape : torch.Size([32, 196, 768])\n",
            "[CLS] + patch embeddings shape : torch.Size([32, 197, 768])\n"
          ]
        }
      ],
      "source": [
        "### 패치 임베딩 확인\n",
        "print(model.vit.embeddings)\n",
        "\n",
        "batch = next(iter(train_dataloader))\n",
        "print(\"image shape :\", batch[\"pixel_values\"].shape)\n",
        "print(\"patch embeddings shape :\",\n",
        "    model.vit.embeddings.patch_embeddings(batch[\"pixel_values\"]).shape\n",
        ")\n",
        "print(\"[CLS] + patch embeddings shape :\",\n",
        "    model.vit.embeddings(batch[\"pixel_values\"]).shape\n",
        ")"
      ]
    },
    {
      "cell_type": "markdown",
      "id": "577ffaa5-399d-420f-a18a-dfed130f4650",
      "metadata": {
        "id": "577ffaa5-399d-420f-a18a-dfed130f4650"
      },
      "source": [
        "- 패치 임베딩 함수: 16*16 커널, 16 스트라이드의 Conv2d 연산 수행\n",
        "- 패치 임베딩 생성 후 임베딩 함수 수행: modeil.vit.embeddings\n",
        "- 224×224 이미지를 16×16 패치로 나누면 196개가 생김\n",
        "- 여기에 [CLS]를 붙여 총 197개의 임베딩(각각 768차원) -> ViT 모델의 입력이 됨"
      ]
    },
    {
      "cell_type": "code",
      "execution_count": 8,
      "id": "b8bd44e6-8a12-441b-8070-740b932ecc1a",
      "metadata": {
        "id": "b8bd44e6-8a12-441b-8070-740b932ecc1a"
      },
      "outputs": [],
      "source": [
        "### 하이퍼파라미터 설정\n",
        "\n",
        "from transformers import TrainingArguments\n",
        "\n",
        "args = TrainingArguments(\n",
        "    output_dir=\"../models/ViT-FashionMNIST\",\n",
        "    save_strategy=\"epoch\",\n",
        "    eval_strategy=\"epoch\",  # evaluation_strategy에서 변경됨\n",
        "    learning_rate=1e-5,\n",
        "    per_device_train_batch_size=16,\n",
        "    per_device_eval_batch_size=16,\n",
        "    num_train_epochs=3,\n",
        "    weight_decay=0.001,\n",
        "    load_best_model_at_end=True,\n",
        "    metric_for_best_model=\"f1\",\n",
        "    logging_dir=\"logs\",\n",
        "    logging_steps=125,\n",
        "    remove_unused_columns=False,\n",
        "    seed=7\n",
        ")"
      ]
    },
    {
      "cell_type": "markdown",
      "id": "82d99f68-921f-4cf5-820a-8e14742563e2",
      "metadata": {
        "id": "82d99f68-921f-4cf5-820a-8e14742563e2"
      },
      "source": [
        "![image.png](attachment:501a2c6e-05bb-456c-9b16-73884b6070df.png)\n",
        "\n",
        "![image.png](attachment:54c02e02-bf11-4af7-9a06-c07eef9b3e0a.png)"
      ]
    },
    {
      "cell_type": "code",
      "source": [
        "# !pip install evaluate"
      ],
      "metadata": {
        "colab": {
          "base_uri": "https://localhost:8080/"
        },
        "id": "jAx7rU51hdwD",
        "outputId": "f6291566-2d0e-4e1e-9c63-483534dca618"
      },
      "id": "jAx7rU51hdwD",
      "execution_count": 10,
      "outputs": [
        {
          "output_type": "stream",
          "name": "stdout",
          "text": [
            "Collecting evaluate\n",
            "  Downloading evaluate-0.4.3-py3-none-any.whl.metadata (9.2 kB)\n",
            "Collecting datasets>=2.0.0 (from evaluate)\n",
            "  Downloading datasets-3.5.1-py3-none-any.whl.metadata (19 kB)\n",
            "Requirement already satisfied: numpy>=1.17 in /usr/local/lib/python3.11/dist-packages (from evaluate) (2.0.2)\n",
            "Collecting dill (from evaluate)\n",
            "  Downloading dill-0.4.0-py3-none-any.whl.metadata (10 kB)\n",
            "Requirement already satisfied: pandas in /usr/local/lib/python3.11/dist-packages (from evaluate) (2.2.2)\n",
            "Requirement already satisfied: requests>=2.19.0 in /usr/local/lib/python3.11/dist-packages (from evaluate) (2.32.3)\n",
            "Requirement already satisfied: tqdm>=4.62.1 in /usr/local/lib/python3.11/dist-packages (from evaluate) (4.67.1)\n",
            "Collecting xxhash (from evaluate)\n",
            "  Downloading xxhash-3.5.0-cp311-cp311-manylinux_2_17_x86_64.manylinux2014_x86_64.whl.metadata (12 kB)\n",
            "Collecting multiprocess (from evaluate)\n",
            "  Downloading multiprocess-0.70.18-py311-none-any.whl.metadata (7.5 kB)\n",
            "Requirement already satisfied: fsspec>=2021.05.0 in /usr/local/lib/python3.11/dist-packages (from fsspec[http]>=2021.05.0->evaluate) (2025.3.2)\n",
            "Requirement already satisfied: huggingface-hub>=0.7.0 in /usr/local/lib/python3.11/dist-packages (from evaluate) (0.30.2)\n",
            "Requirement already satisfied: packaging in /usr/local/lib/python3.11/dist-packages (from evaluate) (24.2)\n",
            "Requirement already satisfied: filelock in /usr/local/lib/python3.11/dist-packages (from datasets>=2.0.0->evaluate) (3.18.0)\n",
            "Requirement already satisfied: pyarrow>=15.0.0 in /usr/local/lib/python3.11/dist-packages (from datasets>=2.0.0->evaluate) (18.1.0)\n",
            "Collecting dill (from evaluate)\n",
            "  Downloading dill-0.3.8-py3-none-any.whl.metadata (10 kB)\n",
            "Collecting multiprocess (from evaluate)\n",
            "  Downloading multiprocess-0.70.16-py311-none-any.whl.metadata (7.2 kB)\n",
            "Collecting fsspec>=2021.05.0 (from fsspec[http]>=2021.05.0->evaluate)\n",
            "  Downloading fsspec-2025.3.0-py3-none-any.whl.metadata (11 kB)\n",
            "Requirement already satisfied: aiohttp in /usr/local/lib/python3.11/dist-packages (from datasets>=2.0.0->evaluate) (3.11.15)\n",
            "Requirement already satisfied: pyyaml>=5.1 in /usr/local/lib/python3.11/dist-packages (from datasets>=2.0.0->evaluate) (6.0.2)\n",
            "Requirement already satisfied: typing-extensions>=3.7.4.3 in /usr/local/lib/python3.11/dist-packages (from huggingface-hub>=0.7.0->evaluate) (4.13.2)\n",
            "Requirement already satisfied: charset-normalizer<4,>=2 in /usr/local/lib/python3.11/dist-packages (from requests>=2.19.0->evaluate) (3.4.1)\n",
            "Requirement already satisfied: idna<4,>=2.5 in /usr/local/lib/python3.11/dist-packages (from requests>=2.19.0->evaluate) (3.10)\n",
            "Requirement already satisfied: urllib3<3,>=1.21.1 in /usr/local/lib/python3.11/dist-packages (from requests>=2.19.0->evaluate) (2.4.0)\n",
            "Requirement already satisfied: certifi>=2017.4.17 in /usr/local/lib/python3.11/dist-packages (from requests>=2.19.0->evaluate) (2025.4.26)\n",
            "Requirement already satisfied: python-dateutil>=2.8.2 in /usr/local/lib/python3.11/dist-packages (from pandas->evaluate) (2.9.0.post0)\n",
            "Requirement already satisfied: pytz>=2020.1 in /usr/local/lib/python3.11/dist-packages (from pandas->evaluate) (2025.2)\n",
            "Requirement already satisfied: tzdata>=2022.7 in /usr/local/lib/python3.11/dist-packages (from pandas->evaluate) (2025.2)\n",
            "Requirement already satisfied: aiohappyeyeballs>=2.3.0 in /usr/local/lib/python3.11/dist-packages (from aiohttp->datasets>=2.0.0->evaluate) (2.6.1)\n",
            "Requirement already satisfied: aiosignal>=1.1.2 in /usr/local/lib/python3.11/dist-packages (from aiohttp->datasets>=2.0.0->evaluate) (1.3.2)\n",
            "Requirement already satisfied: attrs>=17.3.0 in /usr/local/lib/python3.11/dist-packages (from aiohttp->datasets>=2.0.0->evaluate) (25.3.0)\n",
            "Requirement already satisfied: frozenlist>=1.1.1 in /usr/local/lib/python3.11/dist-packages (from aiohttp->datasets>=2.0.0->evaluate) (1.6.0)\n",
            "Requirement already satisfied: multidict<7.0,>=4.5 in /usr/local/lib/python3.11/dist-packages (from aiohttp->datasets>=2.0.0->evaluate) (6.4.3)\n",
            "Requirement already satisfied: propcache>=0.2.0 in /usr/local/lib/python3.11/dist-packages (from aiohttp->datasets>=2.0.0->evaluate) (0.3.1)\n",
            "Requirement already satisfied: yarl<2.0,>=1.17.0 in /usr/local/lib/python3.11/dist-packages (from aiohttp->datasets>=2.0.0->evaluate) (1.20.0)\n",
            "Requirement already satisfied: six>=1.5 in /usr/local/lib/python3.11/dist-packages (from python-dateutil>=2.8.2->pandas->evaluate) (1.17.0)\n",
            "Downloading evaluate-0.4.3-py3-none-any.whl (84 kB)\n",
            "\u001b[2K   \u001b[90m━━━━━━━━━━━━━━━━━━━━━━━━━━━━━━━━━━━━━━━━\u001b[0m \u001b[32m84.0/84.0 kB\u001b[0m \u001b[31m4.9 MB/s\u001b[0m eta \u001b[36m0:00:00\u001b[0m\n",
            "\u001b[?25hDownloading datasets-3.5.1-py3-none-any.whl (491 kB)\n",
            "\u001b[2K   \u001b[90m━━━━━━━━━━━━━━━━━━━━━━━━━━━━━━━━━━━━━━━━\u001b[0m \u001b[32m491.4/491.4 kB\u001b[0m \u001b[31m22.3 MB/s\u001b[0m eta \u001b[36m0:00:00\u001b[0m\n",
            "\u001b[?25hDownloading dill-0.3.8-py3-none-any.whl (116 kB)\n",
            "\u001b[2K   \u001b[90m━━━━━━━━━━━━━━━━━━━━━━━━━━━━━━━━━━━━━━━━\u001b[0m \u001b[32m116.3/116.3 kB\u001b[0m \u001b[31m13.3 MB/s\u001b[0m eta \u001b[36m0:00:00\u001b[0m\n",
            "\u001b[?25hDownloading fsspec-2025.3.0-py3-none-any.whl (193 kB)\n",
            "\u001b[2K   \u001b[90m━━━━━━━━━━━━━━━━━━━━━━━━━━━━━━━━━━━━━━━━\u001b[0m \u001b[32m193.6/193.6 kB\u001b[0m \u001b[31m20.7 MB/s\u001b[0m eta \u001b[36m0:00:00\u001b[0m\n",
            "\u001b[?25hDownloading multiprocess-0.70.16-py311-none-any.whl (143 kB)\n",
            "\u001b[2K   \u001b[90m━━━━━━━━━━━━━━━━━━━━━━━━━━━━━━━━━━━━━━━━\u001b[0m \u001b[32m143.5/143.5 kB\u001b[0m \u001b[31m15.7 MB/s\u001b[0m eta \u001b[36m0:00:00\u001b[0m\n",
            "\u001b[?25hDownloading xxhash-3.5.0-cp311-cp311-manylinux_2_17_x86_64.manylinux2014_x86_64.whl (194 kB)\n",
            "\u001b[2K   \u001b[90m━━━━━━━━━━━━━━━━━━━━━━━━━━━━━━━━━━━━━━━━\u001b[0m \u001b[32m194.8/194.8 kB\u001b[0m \u001b[31m21.2 MB/s\u001b[0m eta \u001b[36m0:00:00\u001b[0m\n",
            "\u001b[?25hInstalling collected packages: xxhash, fsspec, dill, multiprocess, datasets, evaluate\n",
            "  Attempting uninstall: fsspec\n",
            "    Found existing installation: fsspec 2025.3.2\n",
            "    Uninstalling fsspec-2025.3.2:\n",
            "      Successfully uninstalled fsspec-2025.3.2\n",
            "\u001b[31mERROR: pip's dependency resolver does not currently take into account all the packages that are installed. This behaviour is the source of the following dependency conflicts.\n",
            "torch 2.6.0+cu124 requires nvidia-cublas-cu12==12.4.5.8; platform_system == \"Linux\" and platform_machine == \"x86_64\", but you have nvidia-cublas-cu12 12.5.3.2 which is incompatible.\n",
            "torch 2.6.0+cu124 requires nvidia-cuda-cupti-cu12==12.4.127; platform_system == \"Linux\" and platform_machine == \"x86_64\", but you have nvidia-cuda-cupti-cu12 12.5.82 which is incompatible.\n",
            "torch 2.6.0+cu124 requires nvidia-cuda-nvrtc-cu12==12.4.127; platform_system == \"Linux\" and platform_machine == \"x86_64\", but you have nvidia-cuda-nvrtc-cu12 12.5.82 which is incompatible.\n",
            "torch 2.6.0+cu124 requires nvidia-cuda-runtime-cu12==12.4.127; platform_system == \"Linux\" and platform_machine == \"x86_64\", but you have nvidia-cuda-runtime-cu12 12.5.82 which is incompatible.\n",
            "torch 2.6.0+cu124 requires nvidia-cudnn-cu12==9.1.0.70; platform_system == \"Linux\" and platform_machine == \"x86_64\", but you have nvidia-cudnn-cu12 9.3.0.75 which is incompatible.\n",
            "torch 2.6.0+cu124 requires nvidia-cufft-cu12==11.2.1.3; platform_system == \"Linux\" and platform_machine == \"x86_64\", but you have nvidia-cufft-cu12 11.2.3.61 which is incompatible.\n",
            "torch 2.6.0+cu124 requires nvidia-curand-cu12==10.3.5.147; platform_system == \"Linux\" and platform_machine == \"x86_64\", but you have nvidia-curand-cu12 10.3.6.82 which is incompatible.\n",
            "torch 2.6.0+cu124 requires nvidia-cusolver-cu12==11.6.1.9; platform_system == \"Linux\" and platform_machine == \"x86_64\", but you have nvidia-cusolver-cu12 11.6.3.83 which is incompatible.\n",
            "torch 2.6.0+cu124 requires nvidia-cusparse-cu12==12.3.1.170; platform_system == \"Linux\" and platform_machine == \"x86_64\", but you have nvidia-cusparse-cu12 12.5.1.3 which is incompatible.\n",
            "torch 2.6.0+cu124 requires nvidia-nvjitlink-cu12==12.4.127; platform_system == \"Linux\" and platform_machine == \"x86_64\", but you have nvidia-nvjitlink-cu12 12.5.82 which is incompatible.\n",
            "gcsfs 2025.3.2 requires fsspec==2025.3.2, but you have fsspec 2025.3.0 which is incompatible.\u001b[0m\u001b[31m\n",
            "\u001b[0mSuccessfully installed datasets-3.5.1 dill-0.3.8 evaluate-0.4.3 fsspec-2025.3.0 multiprocess-0.70.16 xxhash-3.5.0\n"
          ]
        }
      ]
    },
    {
      "cell_type": "code",
      "execution_count": 11,
      "id": "64d94ea3-49ad-4526-8ead-481cb9da6f25",
      "metadata": {
        "id": "64d94ea3-49ad-4526-8ead-481cb9da6f25"
      },
      "outputs": [],
      "source": [
        "### 성능 평가 지표: Macro Average F1-Score\n",
        "\n",
        "import evaluate\n",
        "import numpy as np\n",
        "\n",
        "def compute_metrics(eval_pred):\n",
        "    metric = evaluate.load(\"f1\")\n",
        "    predictions, labels = eval_pred\n",
        "    predictions = np.argmax(predictions, axis=1)\n",
        "    macro_f1 = metric.compute(\n",
        "        predictions=predictions, references=labels, average=\"macro\"\n",
        "    )\n",
        "    return macro_f1"
      ]
    },
    {
      "cell_type": "markdown",
      "id": "474c9c2e-0cf3-446d-a94a-6c2b12b4da0a",
      "metadata": {
        "id": "474c9c2e-0cf3-446d-a94a-6c2b12b4da0a"
      },
      "source": [
        "- eval_pred: 모델이 예측한 결괏값을 전달받음\n",
        "  - 모든 클래스에 대한 예측값 포함됨\n",
        "- 가장 확률이 높은 값을 선택해 predictions 변수에 저장"
      ]
    },
    {
      "cell_type": "markdown",
      "id": "d7e19abf-9e35-4fdd-bf98-63797d90d82f",
      "metadata": {
        "id": "d7e19abf-9e35-4fdd-bf98-63797d90d82f"
      },
      "source": [
        "-------\n",
        "## 사실상 여기서부터만 실행해도 무관"
      ]
    },
    {
      "cell_type": "code",
      "execution_count": 12,
      "id": "bc21c4ce-bbe1-4c74-8820-4430a52c0f09",
      "metadata": {
        "id": "bc21c4ce-bbe1-4c74-8820-4430a52c0f09"
      },
      "outputs": [],
      "source": [
        "### ViT 모델 학습\n",
        "\n",
        "import torch\n",
        "import evaluate\n",
        "import numpy as np\n",
        "from itertools import chain\n",
        "from collections import defaultdict\n",
        "from torch.utils.data import Subset\n",
        "from torchvision import datasets\n",
        "from torchvision import transforms\n",
        "from transformers import AutoImageProcessor\n",
        "from transformers import ViTForImageClassification\n",
        "from transformers import TrainingArguments, Trainer\n",
        "\n",
        "\n",
        "def subset_sampler(dataset, classes, max_len):\n",
        "    target_idx = defaultdict(list)\n",
        "    for idx, label in enumerate(dataset.train_labels):\n",
        "        target_idx[int(label)].append(idx)\n",
        "\n",
        "    indices = list(\n",
        "        chain.from_iterable(\n",
        "            [target_idx[idx][:max_len] for idx in range(len(classes))]\n",
        "        )\n",
        "    )\n",
        "    return Subset(dataset, indices)\n",
        "\n",
        "\n",
        "# 얘만 새로 정의. 나머지는 이미 정의했던 것\n",
        "def model_init(classes, class_to_idx):\n",
        "    model = ViTForImageClassification.from_pretrained(\n",
        "        pretrained_model_name_or_path=\"google/vit-base-patch16-224-in21k\",\n",
        "        num_labels=len(classes),\n",
        "        id2label={idx: label for label, idx in class_to_idx.items()},\n",
        "        label2id=class_to_idx,\n",
        "    )\n",
        "    return model\n",
        "\n",
        "\n",
        "def collator(data, transform):\n",
        "    images, labels = zip(*data)\n",
        "    pixel_values = torch.stack([transform(image) for image in images])\n",
        "    labels = torch.tensor([label for label in labels])\n",
        "    return {\"pixel_values\": pixel_values, \"labels\": labels}\n",
        "\n",
        "\n",
        "def compute_metrics(eval_pred):\n",
        "    metric = evaluate.load(\"f1\")\n",
        "    predictions, labels = eval_pred\n",
        "    predictions = np.argmax(predictions, axis=1)\n",
        "    macro_f1 = metric.compute(\n",
        "        predictions=predictions, references=labels, average=\"macro\"\n",
        "    )\n",
        "    return macro_f1"
      ]
    },
    {
      "cell_type": "code",
      "execution_count": 13,
      "id": "b14e6d3a-ad77-4c4f-8301-3c92d512b7d7",
      "metadata": {
        "colab": {
          "base_uri": "https://localhost:8080/"
        },
        "id": "b14e6d3a-ad77-4c4f-8301-3c92d512b7d7",
        "outputId": "702224f2-339b-4679-fcd0-9e96f1216515"
      },
      "outputs": [
        {
          "output_type": "stream",
          "name": "stderr",
          "text": [
            "/usr/local/lib/python3.11/dist-packages/torchvision/datasets/mnist.py:66: UserWarning: train_labels has been renamed targets\n",
            "  warnings.warn(\"train_labels has been renamed targets\")\n",
            "Fast image processor class <class 'transformers.models.vit.image_processing_vit_fast.ViTImageProcessorFast'> is available for this model. Using slow image processor class. To use the fast image processor class set `use_fast=True`.\n"
          ]
        }
      ],
      "source": [
        "train_dataset = datasets.FashionMNIST(root=\"../datasets\", download=True, train=True)\n",
        "test_dataset = datasets.FashionMNIST(root=\"../datasets\", download=True, train=False)\n",
        "\n",
        "classes = train_dataset.classes\n",
        "class_to_idx = train_dataset.class_to_idx\n",
        "\n",
        "subset_train_dataset = subset_sampler(\n",
        "    dataset=train_dataset, classes=train_dataset.classes, max_len=1000\n",
        ")\n",
        "subset_test_dataset = subset_sampler(\n",
        "    dataset=test_dataset, classes=test_dataset.classes, max_len=100\n",
        ")\n",
        "\n",
        "image_processor = AutoImageProcessor.from_pretrained(\n",
        "    pretrained_model_name_or_path=\"google/vit-base-patch16-224-in21k\"\n",
        ")\n",
        "\n",
        "transform = transforms.Compose(\n",
        "    [\n",
        "        transforms.ToTensor(),\n",
        "        transforms.Resize(\n",
        "            size=(\n",
        "                image_processor.size[\"height\"],\n",
        "                image_processor.size[\"width\"]\n",
        "            )\n",
        "        ),\n",
        "        transforms.Lambda(\n",
        "            lambda x: torch.cat([x, x, x], 0)\n",
        "        ),\n",
        "        transforms.Normalize(\n",
        "            mean=image_processor.image_mean,\n",
        "            std=image_processor.image_std\n",
        "        )\n",
        "    ]\n",
        ")"
      ]
    },
    {
      "cell_type": "code",
      "execution_count": 15,
      "id": "f29069db-f575-4642-aa9d-ec33e9d7d5b5",
      "metadata": {
        "colab": {
          "base_uri": "https://localhost:8080/",
          "height": 389,
          "referenced_widgets": [
            "286787f9ef96488f96511009ca88ac55",
            "3cacd6a3eb144ffc8793e23744bfa95e",
            "c5e9e4ff62ef435fb6b40e5479723953",
            "61ad2d56f42c450c9fa6aa1993bb862a",
            "e48efa369a7f46f9a1eec0cadb8c51fc",
            "f3a98dbb85974f2180c23252be49e0a1",
            "93dcfb0863a445d1b5ab13d36b065bca",
            "23a9d5de189044febf3ea262cb668640",
            "75f3f1b37471497fa2f72b5f41e4fded",
            "445c042a3ebd4d488d41dc1428cd37d7",
            "f2f7337344dd42138141d640109088a7"
          ]
        },
        "id": "f29069db-f575-4642-aa9d-ec33e9d7d5b5",
        "outputId": "34f97f65-0fc3-4acd-9d88-af74bbd3ec5c"
      },
      "outputs": [
        {
          "output_type": "stream",
          "name": "stderr",
          "text": [
            "<ipython-input-15-6b313e7b1ad8>:19: FutureWarning: `tokenizer` is deprecated and will be removed in version 5.0.0 for `Trainer.__init__`. Use `processing_class` instead.\n",
            "  trainer = Trainer(\n",
            "Some weights of ViTForImageClassification were not initialized from the model checkpoint at google/vit-base-patch16-224-in21k and are newly initialized: ['classifier.bias', 'classifier.weight']\n",
            "You should probably TRAIN this model on a down-stream task to be able to use it for predictions and inference.\n",
            "Some weights of ViTForImageClassification were not initialized from the model checkpoint at google/vit-base-patch16-224-in21k and are newly initialized: ['classifier.bias', 'classifier.weight']\n",
            "You should probably TRAIN this model on a down-stream task to be able to use it for predictions and inference.\n"
          ]
        },
        {
          "output_type": "display_data",
          "data": {
            "text/plain": [
              "<IPython.core.display.HTML object>"
            ],
            "text/html": [
              "\n",
              "    <div>\n",
              "      \n",
              "      <progress value='1875' max='1875' style='width:300px; height:20px; vertical-align: middle;'></progress>\n",
              "      [1875/1875 17:44, Epoch 3/3]\n",
              "    </div>\n",
              "    <table border=\"1\" class=\"dataframe\">\n",
              "  <thead>\n",
              " <tr style=\"text-align: left;\">\n",
              "      <th>Epoch</th>\n",
              "      <th>Training Loss</th>\n",
              "      <th>Validation Loss</th>\n",
              "      <th>F1</th>\n",
              "    </tr>\n",
              "  </thead>\n",
              "  <tbody>\n",
              "    <tr>\n",
              "      <td>1</td>\n",
              "      <td>0.700100</td>\n",
              "      <td>0.632578</td>\n",
              "      <td>0.886868</td>\n",
              "    </tr>\n",
              "    <tr>\n",
              "      <td>2</td>\n",
              "      <td>0.476700</td>\n",
              "      <td>0.473856</td>\n",
              "      <td>0.911090</td>\n",
              "    </tr>\n",
              "    <tr>\n",
              "      <td>3</td>\n",
              "      <td>0.416700</td>\n",
              "      <td>0.426882</td>\n",
              "      <td>0.920968</td>\n",
              "    </tr>\n",
              "  </tbody>\n",
              "</table><p>"
            ]
          },
          "metadata": {}
        },
        {
          "output_type": "display_data",
          "data": {
            "text/plain": [
              "Downloading builder script:   0%|          | 0.00/6.79k [00:00<?, ?B/s]"
            ],
            "application/vnd.jupyter.widget-view+json": {
              "version_major": 2,
              "version_minor": 0,
              "model_id": "286787f9ef96488f96511009ca88ac55"
            }
          },
          "metadata": {}
        },
        {
          "output_type": "execute_result",
          "data": {
            "text/plain": [
              "TrainOutput(global_step=1875, training_loss=0.6970961934407552, metrics={'train_runtime': 1066.4654, 'train_samples_per_second': 28.13, 'train_steps_per_second': 1.758, 'total_flos': 2.32492637712384e+18, 'train_loss': 0.6970961934407552, 'epoch': 3.0})"
            ]
          },
          "metadata": {},
          "execution_count": 15
        }
      ],
      "source": [
        "args = TrainingArguments(\n",
        "    output_dir=\"../models/ViT-FashionMNIST\",\n",
        "    save_strategy=\"epoch\",\n",
        "    eval_strategy=\"epoch\",\n",
        "    learning_rate=1e-5,\n",
        "    per_device_train_batch_size=16,\n",
        "    per_device_eval_batch_size=16,\n",
        "    num_train_epochs=3,\n",
        "    weight_decay=0.001,\n",
        "    load_best_model_at_end=True,\n",
        "    metric_for_best_model=\"f1\",\n",
        "    logging_dir=\"logs\",\n",
        "    logging_steps=125,\n",
        "    remove_unused_columns=False,\n",
        "    seed=7,\n",
        "    report_to=\"none\" # 코랩에서 돌릴 경우 활성화\n",
        ")\n",
        "\n",
        "trainer = Trainer(\n",
        "    model_init=lambda x: model_init(classes, class_to_idx),\n",
        "    args=args,\n",
        "    train_dataset=subset_train_dataset,\n",
        "    eval_dataset=subset_test_dataset,\n",
        "    data_collator=lambda x: collator(x, transform),\n",
        "    compute_metrics=compute_metrics,\n",
        "    tokenizer=image_processor,\n",
        ")\n",
        "trainer.train()"
      ]
    },
    {
      "cell_type": "markdown",
      "id": "f7fa0023-1308-4a8d-8b31-e660cf59a3ef",
      "metadata": {
        "id": "f7fa0023-1308-4a8d-8b31-e660cf59a3ef"
      },
      "source": [
        "- 트랜스포머스 라이브러리의 훈련자 클래스(Trainer)를 통해 ViT 모델 학습\n",
        "  - 훈련자 클래스는 모델을 함수(model_init)의 형태로 생성해 전달\n",
        "  - 훈련자 클래스는 데이터로더가 내부적으로 수행됨\n",
        "    => 데이터세트, 집합 함수 등을 함께 전달\n",
        "- 학습이 완료되면 ViT-FashionMNIST 폴더에 체크포인트마다 학습 결과, 성능 지표, 하이퍼파라미터 등이 저장됨"
      ]
    },
    {
      "cell_type": "code",
      "execution_count": 16,
      "id": "8af48631-dc54-42aa-aec5-5134d1a2c0e4",
      "metadata": {
        "colab": {
          "base_uri": "https://localhost:8080/",
          "height": 1000
        },
        "id": "8af48631-dc54-42aa-aec5-5134d1a2c0e4",
        "outputId": "63b2a503-5047-4859-ea15-a07a7b6095e6"
      },
      "outputs": [
        {
          "output_type": "display_data",
          "data": {
            "text/plain": [
              "<IPython.core.display.HTML object>"
            ],
            "text/html": []
          },
          "metadata": {}
        },
        {
          "output_type": "stream",
          "name": "stdout",
          "text": [
            "PredictionOutput(predictions=array([[ 3.0722842 , -0.63841504, -0.29865408, ..., -0.579745  ,\n",
            "        -0.32789698, -0.6074605 ],\n",
            "       [ 2.072034  , -0.6885157 , -0.24669428, ..., -0.8297396 ,\n",
            "        -0.8257852 , -0.95410043],\n",
            "       [ 2.995471  , -0.6021513 , -0.16138181, ..., -0.5226669 ,\n",
            "        -0.36727345, -0.6038809 ],\n",
            "       ...,\n",
            "       [-0.5784347 , -0.60892874, -0.53849375, ...,  0.60372555,\n",
            "         0.37911075,  2.9814434 ],\n",
            "       [-0.5550974 , -0.38791537, -0.3086287 , ...,  0.13592863,\n",
            "        -0.30320463,  3.3962846 ],\n",
            "       [-0.5318418 , -0.32698768, -0.2928442 , ..., -0.2789853 ,\n",
            "        -0.15928861,  3.416874  ]], dtype=float32), label_ids=array([0, 0, 0, 0, 0, 0, 0, 0, 0, 0, 0, 0, 0, 0, 0, 0, 0, 0, 0, 0, 0, 0,\n",
            "       0, 0, 0, 0, 0, 0, 0, 0, 0, 0, 0, 0, 0, 0, 0, 0, 0, 0, 0, 0, 0, 0,\n",
            "       0, 0, 0, 0, 0, 0, 0, 0, 0, 0, 0, 0, 0, 0, 0, 0, 0, 0, 0, 0, 0, 0,\n",
            "       0, 0, 0, 0, 0, 0, 0, 0, 0, 0, 0, 0, 0, 0, 0, 0, 0, 0, 0, 0, 0, 0,\n",
            "       0, 0, 0, 0, 0, 0, 0, 0, 0, 0, 0, 0, 1, 1, 1, 1, 1, 1, 1, 1, 1, 1,\n",
            "       1, 1, 1, 1, 1, 1, 1, 1, 1, 1, 1, 1, 1, 1, 1, 1, 1, 1, 1, 1, 1, 1,\n",
            "       1, 1, 1, 1, 1, 1, 1, 1, 1, 1, 1, 1, 1, 1, 1, 1, 1, 1, 1, 1, 1, 1,\n",
            "       1, 1, 1, 1, 1, 1, 1, 1, 1, 1, 1, 1, 1, 1, 1, 1, 1, 1, 1, 1, 1, 1,\n",
            "       1, 1, 1, 1, 1, 1, 1, 1, 1, 1, 1, 1, 1, 1, 1, 1, 1, 1, 1, 1, 1, 1,\n",
            "       1, 1, 2, 2, 2, 2, 2, 2, 2, 2, 2, 2, 2, 2, 2, 2, 2, 2, 2, 2, 2, 2,\n",
            "       2, 2, 2, 2, 2, 2, 2, 2, 2, 2, 2, 2, 2, 2, 2, 2, 2, 2, 2, 2, 2, 2,\n",
            "       2, 2, 2, 2, 2, 2, 2, 2, 2, 2, 2, 2, 2, 2, 2, 2, 2, 2, 2, 2, 2, 2,\n",
            "       2, 2, 2, 2, 2, 2, 2, 2, 2, 2, 2, 2, 2, 2, 2, 2, 2, 2, 2, 2, 2, 2,\n",
            "       2, 2, 2, 2, 2, 2, 2, 2, 2, 2, 2, 2, 2, 2, 3, 3, 3, 3, 3, 3, 3, 3,\n",
            "       3, 3, 3, 3, 3, 3, 3, 3, 3, 3, 3, 3, 3, 3, 3, 3, 3, 3, 3, 3, 3, 3,\n",
            "       3, 3, 3, 3, 3, 3, 3, 3, 3, 3, 3, 3, 3, 3, 3, 3, 3, 3, 3, 3, 3, 3,\n",
            "       3, 3, 3, 3, 3, 3, 3, 3, 3, 3, 3, 3, 3, 3, 3, 3, 3, 3, 3, 3, 3, 3,\n",
            "       3, 3, 3, 3, 3, 3, 3, 3, 3, 3, 3, 3, 3, 3, 3, 3, 3, 3, 3, 3, 3, 3,\n",
            "       3, 3, 3, 3, 4, 4, 4, 4, 4, 4, 4, 4, 4, 4, 4, 4, 4, 4, 4, 4, 4, 4,\n",
            "       4, 4, 4, 4, 4, 4, 4, 4, 4, 4, 4, 4, 4, 4, 4, 4, 4, 4, 4, 4, 4, 4,\n",
            "       4, 4, 4, 4, 4, 4, 4, 4, 4, 4, 4, 4, 4, 4, 4, 4, 4, 4, 4, 4, 4, 4,\n",
            "       4, 4, 4, 4, 4, 4, 4, 4, 4, 4, 4, 4, 4, 4, 4, 4, 4, 4, 4, 4, 4, 4,\n",
            "       4, 4, 4, 4, 4, 4, 4, 4, 4, 4, 4, 4, 4, 4, 4, 4, 5, 5, 5, 5, 5, 5,\n",
            "       5, 5, 5, 5, 5, 5, 5, 5, 5, 5, 5, 5, 5, 5, 5, 5, 5, 5, 5, 5, 5, 5,\n",
            "       5, 5, 5, 5, 5, 5, 5, 5, 5, 5, 5, 5, 5, 5, 5, 5, 5, 5, 5, 5, 5, 5,\n",
            "       5, 5, 5, 5, 5, 5, 5, 5, 5, 5, 5, 5, 5, 5, 5, 5, 5, 5, 5, 5, 5, 5,\n",
            "       5, 5, 5, 5, 5, 5, 5, 5, 5, 5, 5, 5, 5, 5, 5, 5, 5, 5, 5, 5, 5, 5,\n",
            "       5, 5, 5, 5, 5, 5, 6, 6, 6, 6, 6, 6, 6, 6, 6, 6, 6, 6, 6, 6, 6, 6,\n",
            "       6, 6, 6, 6, 6, 6, 6, 6, 6, 6, 6, 6, 6, 6, 6, 6, 6, 6, 6, 6, 6, 6,\n",
            "       6, 6, 6, 6, 6, 6, 6, 6, 6, 6, 6, 6, 6, 6, 6, 6, 6, 6, 6, 6, 6, 6,\n",
            "       6, 6, 6, 6, 6, 6, 6, 6, 6, 6, 6, 6, 6, 6, 6, 6, 6, 6, 6, 6, 6, 6,\n",
            "       6, 6, 6, 6, 6, 6, 6, 6, 6, 6, 6, 6, 6, 6, 6, 6, 6, 6, 7, 7, 7, 7,\n",
            "       7, 7, 7, 7, 7, 7, 7, 7, 7, 7, 7, 7, 7, 7, 7, 7, 7, 7, 7, 7, 7, 7,\n",
            "       7, 7, 7, 7, 7, 7, 7, 7, 7, 7, 7, 7, 7, 7, 7, 7, 7, 7, 7, 7, 7, 7,\n",
            "       7, 7, 7, 7, 7, 7, 7, 7, 7, 7, 7, 7, 7, 7, 7, 7, 7, 7, 7, 7, 7, 7,\n",
            "       7, 7, 7, 7, 7, 7, 7, 7, 7, 7, 7, 7, 7, 7, 7, 7, 7, 7, 7, 7, 7, 7,\n",
            "       7, 7, 7, 7, 7, 7, 7, 7, 8, 8, 8, 8, 8, 8, 8, 8, 8, 8, 8, 8, 8, 8,\n",
            "       8, 8, 8, 8, 8, 8, 8, 8, 8, 8, 8, 8, 8, 8, 8, 8, 8, 8, 8, 8, 8, 8,\n",
            "       8, 8, 8, 8, 8, 8, 8, 8, 8, 8, 8, 8, 8, 8, 8, 8, 8, 8, 8, 8, 8, 8,\n",
            "       8, 8, 8, 8, 8, 8, 8, 8, 8, 8, 8, 8, 8, 8, 8, 8, 8, 8, 8, 8, 8, 8,\n",
            "       8, 8, 8, 8, 8, 8, 8, 8, 8, 8, 8, 8, 8, 8, 8, 8, 8, 8, 8, 8, 9, 9,\n",
            "       9, 9, 9, 9, 9, 9, 9, 9, 9, 9, 9, 9, 9, 9, 9, 9, 9, 9, 9, 9, 9, 9,\n",
            "       9, 9, 9, 9, 9, 9, 9, 9, 9, 9, 9, 9, 9, 9, 9, 9, 9, 9, 9, 9, 9, 9,\n",
            "       9, 9, 9, 9, 9, 9, 9, 9, 9, 9, 9, 9, 9, 9, 9, 9, 9, 9, 9, 9, 9, 9,\n",
            "       9, 9, 9, 9, 9, 9, 9, 9, 9, 9, 9, 9, 9, 9, 9, 9, 9, 9, 9, 9, 9, 9,\n",
            "       9, 9, 9, 9, 9, 9, 9, 9, 9, 9]), metrics={'test_loss': 0.42688167095184326, 'test_f1': 0.9209675226993269, 'test_runtime': 11.6902, 'test_samples_per_second': 85.542, 'test_steps_per_second': 5.389})\n"
          ]
        },
        {
          "output_type": "display_data",
          "data": {
            "text/plain": [
              "<Figure size 1000x1000 with 2 Axes>"
            ],
            "image/png": "[encoded data removed]"
          },
          "metadata": {}
        }
      ],
      "source": [
        "### ViT 모델 성능 평가\n",
        "\n",
        "import matplotlib.pyplot as plt\n",
        "from sklearn.metrics import confusion_matrix, ConfusionMatrixDisplay\n",
        "\n",
        "\n",
        "outputs = trainer.predict(subset_test_dataset)\n",
        "print(outputs)\n",
        "\n",
        "y_true = outputs.label_ids\n",
        "y_pred = outputs.predictions.argmax(1)\n",
        "\n",
        "labels = list(classes)\n",
        "matrix = confusion_matrix(y_true, y_pred)\n",
        "display = ConfusionMatrixDisplay(confusion_matrix=matrix, display_labels=labels)\n",
        "_, ax = plt.subplots(figsize=(10, 10))\n",
        "display.plot(xticks_rotation=45, ax=ax)\n",
        "plt.show()"
      ]
    },
    {
      "cell_type": "code",
      "source": [],
      "metadata": {
        "id": "slPgeyZLhjkw"
      },
      "id": "slPgeyZLhjkw",
      "execution_count": null,
      "outputs": []
    }
  ],
  "metadata": {
    "kernelspec": {
      "display_name": "tf2_book",
      "language": "python",
      "name": "tf2_book"
    },
    "language_info": {
      "codemirror_mode": {
        "name": "ipython",
        "version": 3
      },
      "file_extension": ".py",
      "mimetype": "text/x-python",
      "name": "python",
      "nbconvert_exporter": "python",
      "pygments_lexer": "ipython3",
      "version": "3.9.21"
    },
    "colab": {
      "provenance": [],
      "gpuType": "T4"
    },
    "accelerator": "GPU",
    "widgets": {
      "application/vnd.jupyter.widget-state+json": {
        "6bffa7742d3149c0b58b2ee2acf2b105": {
          "model_module": "@jupyter-widgets/controls",
          "model_name": "HBoxModel",
          "model_module_version": "1.5.0",
          "state": {
            "_dom_classes": [],
            "_model_module": "@jupyter-widgets/controls",
            "_model_module_version": "1.5.0",
            "_model_name": "HBoxModel",
            "_view_count": null,
            "_view_module": "@jupyter-widgets/controls",
            "_view_module_version": "1.5.0",
            "_view_name": "HBoxView",
            "box_style": "",
            "children": [
              "IPY_MODEL_bbb337df0e564c8689b90dba45aac999",
              "IPY_MODEL_6fa098b6e47448489152df9cb6497247",
              "IPY_MODEL_d8293b6cf7ba4a748447a6d51f371331"
            ],
            "layout": "IPY_MODEL_f645b6edbb4c4210a58a525fb5624046"
          }
        },
        "bbb337df0e564c8689b90dba45aac999": {
          "model_module": "@jupyter-widgets/controls",
          "model_name": "HTMLModel",
          "model_module_version": "1.5.0",
          "state": {
            "_dom_classes": [],
            "_model_module": "@jupyter-widgets/controls",
            "_model_module_version": "1.5.0",
            "_model_name": "HTMLModel",
            "_view_count": null,
            "_view_module": "@jupyter-widgets/controls",
            "_view_module_version": "1.5.0",
            "_view_name": "HTMLView",
            "description": "",
            "description_tooltip": null,
            "layout": "IPY_MODEL_dc6d4f4e5610499db20e6f20422cf2f5",
            "placeholder": "​",
            "style": "IPY_MODEL_8e2dac3acf3e44b189570d0a5881de40",
            "value": "preprocessor_config.json: 100%"
          }
        },
        "6fa098b6e47448489152df9cb6497247": {
          "model_module": "@jupyter-widgets/controls",
          "model_name": "FloatProgressModel",
          "model_module_version": "1.5.0",
          "state": {
            "_dom_classes": [],
            "_model_module": "@jupyter-widgets/controls",
            "_model_module_version": "1.5.0",
            "_model_name": "FloatProgressModel",
            "_view_count": null,
            "_view_module": "@jupyter-widgets/controls",
            "_view_module_version": "1.5.0",
            "_view_name": "ProgressView",
            "bar_style": "success",
            "description": "",
            "description_tooltip": null,
            "layout": "IPY_MODEL_fcccc585617a487c82c4c29711841150",
            "max": 160,
            "min": 0,
            "orientation": "horizontal",
            "style": "IPY_MODEL_f320f3f7069949c88387551bbf8a4830",
            "value": 160
          }
        },
        "d8293b6cf7ba4a748447a6d51f371331": {
          "model_module": "@jupyter-widgets/controls",
          "model_name": "HTMLModel",
          "model_module_version": "1.5.0",
          "state": {
            "_dom_classes": [],
            "_model_module": "@jupyter-widgets/controls",
            "_model_module_version": "1.5.0",
            "_model_name": "HTMLModel",
            "_view_count": null,
            "_view_module": "@jupyter-widgets/controls",
            "_view_module_version": "1.5.0",
            "_view_name": "HTMLView",
            "description": "",
            "description_tooltip": null,
            "layout": "IPY_MODEL_6f749728eba341c1946d28a8933ecec4",
            "placeholder": "​",
            "style": "IPY_MODEL_a52b9edd8f624154a4a9925d5c486d07",
            "value": " 160/160 [00:00&lt;00:00, 16.8kB/s]"
          }
        },
        "f645b6edbb4c4210a58a525fb5624046": {
          "model_module": "@jupyter-widgets/base",
          "model_name": "LayoutModel",
          "model_module_version": "1.2.0",
          "state": {
            "_model_module": "@jupyter-widgets/base",
            "_model_module_version": "1.2.0",
            "_model_name": "LayoutModel",
            "_view_count": null,
            "_view_module": "@jupyter-widgets/base",
            "_view_module_version": "1.2.0",
            "_view_name": "LayoutView",
            "align_content": null,
            "align_items": null,
            "align_self": null,
            "border": null,
            "bottom": null,
            "display": null,
            "flex": null,
            "flex_flow": null,
            "grid_area": null,
            "grid_auto_columns": null,
            "grid_auto_flow": null,
            "grid_auto_rows": null,
            "grid_column": null,
            "grid_gap": null,
            "grid_row": null,
            "grid_template_areas": null,
            "grid_template_columns": null,
            "grid_template_rows": null,
            "height": null,
            "justify_content": null,
            "justify_items": null,
            "left": null,
            "margin": null,
            "max_height": null,
            "max_width": null,
            "min_height": null,
            "min_width": null,
            "object_fit": null,
            "object_position": null,
            "order": null,
            "overflow": null,
            "overflow_x": null,
            "overflow_y": null,
            "padding": null,
            "right": null,
            "top": null,
            "visibility": null,
            "width": null
          }
        },
        "dc6d4f4e5610499db20e6f20422cf2f5": {
          "model_module": "@jupyter-widgets/base",
          "model_name": "LayoutModel",
          "model_module_version": "1.2.0",
          "state": {
            "_model_module": "@jupyter-widgets/base",
            "_model_module_version": "1.2.0",
            "_model_name": "LayoutModel",
            "_view_count": null,
            "_view_module": "@jupyter-widgets/base",
            "_view_module_version": "1.2.0",
            "_view_name": "LayoutView",
            "align_content": null,
            "align_items": null,
            "align_self": null,
            "border": null,
            "bottom": null,
            "display": null,
            "flex": null,
            "flex_flow": null,
            "grid_area": null,
            "grid_auto_columns": null,
            "grid_auto_flow": null,
            "grid_auto_rows": null,
            "grid_column": null,
            "grid_gap": null,
            "grid_row": null,
            "grid_template_areas": null,
            "grid_template_columns": null,
            "grid_template_rows": null,
            "height": null,
            "justify_content": null,
            "justify_items": null,
            "left": null,
            "margin": null,
            "max_height": null,
            "max_width": null,
            "min_height": null,
            "min_width": null,
            "object_fit": null,
            "object_position": null,
            "order": null,
            "overflow": null,
            "overflow_x": null,
            "overflow_y": null,
            "padding": null,
            "right": null,
            "top": null,
            "visibility": null,
            "width": null
          }
        },
        "8e2dac3acf3e44b189570d0a5881de40": {
          "model_module": "@jupyter-widgets/controls",
          "model_name": "DescriptionStyleModel",
          "model_module_version": "1.5.0",
          "state": {
            "_model_module": "@jupyter-widgets/controls",
            "_model_module_version": "1.5.0",
            "_model_name": "DescriptionStyleModel",
            "_view_count": null,
            "_view_module": "@jupyter-widgets/base",
            "_view_module_version": "1.2.0",
            "_view_name": "StyleView",
            "description_width": ""
          }
        },
        "fcccc585617a487c82c4c29711841150": {
          "model_module": "@jupyter-widgets/base",
          "model_name": "LayoutModel",
          "model_module_version": "1.2.0",
          "state": {
            "_model_module": "@jupyter-widgets/base",
            "_model_module_version": "1.2.0",
            "_model_name": "LayoutModel",
            "_view_count": null,
            "_view_module": "@jupyter-widgets/base",
            "_view_module_version": "1.2.0",
            "_view_name": "LayoutView",
            "align_content": null,
            "align_items": null,
            "align_self": null,
            "border": null,
            "bottom": null,
            "display": null,
            "flex": null,
            "flex_flow": null,
            "grid_area": null,
            "grid_auto_columns": null,
            "grid_auto_flow": null,
            "grid_auto_rows": null,
            "grid_column": null,
            "grid_gap": null,
            "grid_row": null,
            "grid_template_areas": null,
            "grid_template_columns": null,
            "grid_template_rows": null,
            "height": null,
            "justify_content": null,
            "justify_items": null,
            "left": null,
            "margin": null,
            "max_height": null,
            "max_width": null,
            "min_height": null,
            "min_width": null,
            "object_fit": null,
            "object_position": null,
            "order": null,
            "overflow": null,
            "overflow_x": null,
            "overflow_y": null,
            "padding": null,
            "right": null,
            "top": null,
            "visibility": null,
            "width": null
          }
        },
        "f320f3f7069949c88387551bbf8a4830": {
          "model_module": "@jupyter-widgets/controls",
          "model_name": "ProgressStyleModel",
          "model_module_version": "1.5.0",
          "state": {
            "_model_module": "@jupyter-widgets/controls",
            "_model_module_version": "1.5.0",
            "_model_name": "ProgressStyleModel",
            "_view_count": null,
            "_view_module": "@jupyter-widgets/base",
            "_view_module_version": "1.2.0",
            "_view_name": "StyleView",
            "bar_color": null,
            "description_width": ""
          }
        },
        "6f749728eba341c1946d28a8933ecec4": {
          "model_module": "@jupyter-widgets/base",
          "model_name": "LayoutModel",
          "model_module_version": "1.2.0",
          "state": {
            "_model_module": "@jupyter-widgets/base",
            "_model_module_version": "1.2.0",
            "_model_name": "LayoutModel",
            "_view_count": null,
            "_view_module": "@jupyter-widgets/base",
            "_view_module_version": "1.2.0",
            "_view_name": "LayoutView",
            "align_content": null,
            "align_items": null,
            "align_self": null,
            "border": null,
            "bottom": null,
            "display": null,
            "flex": null,
            "flex_flow": null,
            "grid_area": null,
            "grid_auto_columns": null,
            "grid_auto_flow": null,
            "grid_auto_rows": null,
            "grid_column": null,
            "grid_gap": null,
            "grid_row": null,
            "grid_template_areas": null,
            "grid_template_columns": null,
            "grid_template_rows": null,
            "height": null,
            "justify_content": null,
            "justify_items": null,
            "left": null,
            "margin": null,
            "max_height": null,
            "max_width": null,
            "min_height": null,
            "min_width": null,
            "object_fit": null,
            "object_position": null,
            "order": null,
            "overflow": null,
            "overflow_x": null,
            "overflow_y": null,
            "padding": null,
            "right": null,
            "top": null,
            "visibility": null,
            "width": null
          }
        },
        "a52b9edd8f624154a4a9925d5c486d07": {
          "model_module": "@jupyter-widgets/controls",
          "model_name": "DescriptionStyleModel",
          "model_module_version": "1.5.0",
          "state": {
            "_model_module": "@jupyter-widgets/controls",
            "_model_module_version": "1.5.0",
            "_model_name": "DescriptionStyleModel",
            "_view_count": null,
            "_view_module": "@jupyter-widgets/base",
            "_view_module_version": "1.2.0",
            "_view_name": "StyleView",
            "description_width": ""
          }
        },
        "d5cceddce4824549b6a25fa66cc55d56": {
          "model_module": "@jupyter-widgets/controls",
          "model_name": "HBoxModel",
          "model_module_version": "1.5.0",
          "state": {
            "_dom_classes": [],
            "_model_module": "@jupyter-widgets/controls",
            "_model_module_version": "1.5.0",
            "_model_name": "HBoxModel",
            "_view_count": null,
            "_view_module": "@jupyter-widgets/controls",
            "_view_module_version": "1.5.0",
            "_view_name": "HBoxView",
            "box_style": "",
            "children": [
              "IPY_MODEL_ed3f8263e2cb422abe58fc40509d026b",
              "IPY_MODEL_d13f9363b80a4592b2f2322ba781cb8c",
              "IPY_MODEL_e2b9e98f28754242b80b7f83e5b14676"
            ],
            "layout": "IPY_MODEL_c2a9e288af2043c9b11f82cef299adc1"
          }
        },
        "ed3f8263e2cb422abe58fc40509d026b": {
          "model_module": "@jupyter-widgets/controls",
          "model_name": "HTMLModel",
          "model_module_version": "1.5.0",
          "state": {
            "_dom_classes": [],
            "_model_module": "@jupyter-widgets/controls",
            "_model_module_version": "1.5.0",
            "_model_name": "HTMLModel",
            "_view_count": null,
            "_view_module": "@jupyter-widgets/controls",
            "_view_module_version": "1.5.0",
            "_view_name": "HTMLView",
            "description": "",
            "description_tooltip": null,
            "layout": "IPY_MODEL_6631ba06cf084306b3c2a0ad7f19db3c",
            "placeholder": "​",
            "style": "IPY_MODEL_2c82892ad6ea43d8ab04b314dd2dca95",
            "value": "config.json: 100%"
          }
        },
        "d13f9363b80a4592b2f2322ba781cb8c": {
          "model_module": "@jupyter-widgets/controls",
          "model_name": "FloatProgressModel",
          "model_module_version": "1.5.0",
          "state": {
            "_dom_classes": [],
            "_model_module": "@jupyter-widgets/controls",
            "_model_module_version": "1.5.0",
            "_model_name": "FloatProgressModel",
            "_view_count": null,
            "_view_module": "@jupyter-widgets/controls",
            "_view_module_version": "1.5.0",
            "_view_name": "ProgressView",
            "bar_style": "success",
            "description": "",
            "description_tooltip": null,
            "layout": "IPY_MODEL_f27e57027e664fe8ac95ab7a9a72b6cb",
            "max": 502,
            "min": 0,
            "orientation": "horizontal",
            "style": "IPY_MODEL_7230a99526214dc58fbb00ccc9249391",
            "value": 502
          }
        },
        "e2b9e98f28754242b80b7f83e5b14676": {
          "model_module": "@jupyter-widgets/controls",
          "model_name": "HTMLModel",
          "model_module_version": "1.5.0",
          "state": {
            "_dom_classes": [],
            "_model_module": "@jupyter-widgets/controls",
            "_model_module_version": "1.5.0",
            "_model_name": "HTMLModel",
            "_view_count": null,
            "_view_module": "@jupyter-widgets/controls",
            "_view_module_version": "1.5.0",
            "_view_name": "HTMLView",
            "description": "",
            "description_tooltip": null,
            "layout": "IPY_MODEL_3585d83b568d4643b1349dc4532f60ae",
            "placeholder": "​",
            "style": "IPY_MODEL_90d4cb7d1e764bbbb741e031c6c49689",
            "value": " 502/502 [00:00&lt;00:00, 47.6kB/s]"
          }
        },
        "c2a9e288af2043c9b11f82cef299adc1": {
          "model_module": "@jupyter-widgets/base",
          "model_name": "LayoutModel",
          "model_module_version": "1.2.0",
          "state": {
            "_model_module": "@jupyter-widgets/base",
            "_model_module_version": "1.2.0",
            "_model_name": "LayoutModel",
            "_view_count": null,
            "_view_module": "@jupyter-widgets/base",
            "_view_module_version": "1.2.0",
            "_view_name": "LayoutView",
            "align_content": null,
            "align_items": null,
            "align_self": null,
            "border": null,
            "bottom": null,
            "display": null,
            "flex": null,
            "flex_flow": null,
            "grid_area": null,
            "grid_auto_columns": null,
            "grid_auto_flow": null,
            "grid_auto_rows": null,
            "grid_column": null,
            "grid_gap": null,
            "grid_row": null,
            "grid_template_areas": null,
            "grid_template_columns": null,
            "grid_template_rows": null,
            "height": null,
            "justify_content": null,
            "justify_items": null,
            "left": null,
            "margin": null,
            "max_height": null,
            "max_width": null,
            "min_height": null,
            "min_width": null,
            "object_fit": null,
            "object_position": null,
            "order": null,
            "overflow": null,
            "overflow_x": null,
            "overflow_y": null,
            "padding": null,
            "right": null,
            "top": null,
            "visibility": null,
            "width": null
          }
        },
        "6631ba06cf084306b3c2a0ad7f19db3c": {
          "model_module": "@jupyter-widgets/base",
          "model_name": "LayoutModel",
          "model_module_version": "1.2.0",
          "state": {
            "_model_module": "@jupyter-widgets/base",
            "_model_module_version": "1.2.0",
            "_model_name": "LayoutModel",
            "_view_count": null,
            "_view_module": "@jupyter-widgets/base",
            "_view_module_version": "1.2.0",
            "_view_name": "LayoutView",
            "align_content": null,
            "align_items": null,
            "align_self": null,
            "border": null,
            "bottom": null,
            "display": null,
            "flex": null,
            "flex_flow": null,
            "grid_area": null,
            "grid_auto_columns": null,
            "grid_auto_flow": null,
            "grid_auto_rows": null,
            "grid_column": null,
            "grid_gap": null,
            "grid_row": null,
            "grid_template_areas": null,
            "grid_template_columns": null,
            "grid_template_rows": null,
            "height": null,
            "justify_content": null,
            "justify_items": null,
            "left": null,
            "margin": null,
            "max_height": null,
            "max_width": null,
            "min_height": null,
            "min_width": null,
            "object_fit": null,
            "object_position": null,
            "order": null,
            "overflow": null,
            "overflow_x": null,
            "overflow_y": null,
            "padding": null,
            "right": null,
            "top": null,
            "visibility": null,
            "width": null
          }
        },
        "2c82892ad6ea43d8ab04b314dd2dca95": {
          "model_module": "@jupyter-widgets/controls",
          "model_name": "DescriptionStyleModel",
          "model_module_version": "1.5.0",
          "state": {
            "_model_module": "@jupyter-widgets/controls",
            "_model_module_version": "1.5.0",
            "_model_name": "DescriptionStyleModel",
            "_view_count": null,
            "_view_module": "@jupyter-widgets/base",
            "_view_module_version": "1.2.0",
            "_view_name": "StyleView",
            "description_width": ""
          }
        },
        "f27e57027e664fe8ac95ab7a9a72b6cb": {
          "model_module": "@jupyter-widgets/base",
          "model_name": "LayoutModel",
          "model_module_version": "1.2.0",
          "state": {
            "_model_module": "@jupyter-widgets/base",
            "_model_module_version": "1.2.0",
            "_model_name": "LayoutModel",
            "_view_count": null,
            "_view_module": "@jupyter-widgets/base",
            "_view_module_version": "1.2.0",
            "_view_name": "LayoutView",
            "align_content": null,
            "align_items": null,
            "align_self": null,
            "border": null,
            "bottom": null,
            "display": null,
            "flex": null,
            "flex_flow": null,
            "grid_area": null,
            "grid_auto_columns": null,
            "grid_auto_flow": null,
            "grid_auto_rows": null,
            "grid_column": null,
            "grid_gap": null,
            "grid_row": null,
            "grid_template_areas": null,
            "grid_template_columns": null,
            "grid_template_rows": null,
            "height": null,
            "justify_content": null,
            "justify_items": null,
            "left": null,
            "margin": null,
            "max_height": null,
            "max_width": null,
            "min_height": null,
            "min_width": null,
            "object_fit": null,
            "object_position": null,
            "order": null,
            "overflow": null,
            "overflow_x": null,
            "overflow_y": null,
            "padding": null,
            "right": null,
            "top": null,
            "visibility": null,
            "width": null
          }
        },
        "7230a99526214dc58fbb00ccc9249391": {
          "model_module": "@jupyter-widgets/controls",
          "model_name": "ProgressStyleModel",
          "model_module_version": "1.5.0",
          "state": {
            "_model_module": "@jupyter-widgets/controls",
            "_model_module_version": "1.5.0",
            "_model_name": "ProgressStyleModel",
            "_view_count": null,
            "_view_module": "@jupyter-widgets/base",
            "_view_module_version": "1.2.0",
            "_view_name": "StyleView",
            "bar_color": null,
            "description_width": ""
          }
        },
        "3585d83b568d4643b1349dc4532f60ae": {
          "model_module": "@jupyter-widgets/base",
          "model_name": "LayoutModel",
          "model_module_version": "1.2.0",
          "state": {
            "_model_module": "@jupyter-widgets/base",
            "_model_module_version": "1.2.0",
            "_model_name": "LayoutModel",
            "_view_count": null,
            "_view_module": "@jupyter-widgets/base",
            "_view_module_version": "1.2.0",
            "_view_name": "LayoutView",
            "align_content": null,
            "align_items": null,
            "align_self": null,
            "border": null,
            "bottom": null,
            "display": null,
            "flex": null,
            "flex_flow": null,
            "grid_area": null,
            "grid_auto_columns": null,
            "grid_auto_flow": null,
            "grid_auto_rows": null,
            "grid_column": null,
            "grid_gap": null,
            "grid_row": null,
            "grid_template_areas": null,
            "grid_template_columns": null,
            "grid_template_rows": null,
            "height": null,
            "justify_content": null,
            "justify_items": null,
            "left": null,
            "margin": null,
            "max_height": null,
            "max_width": null,
            "min_height": null,
            "min_width": null,
            "object_fit": null,
            "object_position": null,
            "order": null,
            "overflow": null,
            "overflow_x": null,
            "overflow_y": null,
            "padding": null,
            "right": null,
            "top": null,
            "visibility": null,
            "width": null
          }
        },
        "90d4cb7d1e764bbbb741e031c6c49689": {
          "model_module": "@jupyter-widgets/controls",
          "model_name": "DescriptionStyleModel",
          "model_module_version": "1.5.0",
          "state": {
            "_model_module": "@jupyter-widgets/controls",
            "_model_module_version": "1.5.0",
            "_model_name": "DescriptionStyleModel",
            "_view_count": null,
            "_view_module": "@jupyter-widgets/base",
            "_view_module_version": "1.2.0",
            "_view_name": "StyleView",
            "description_width": ""
          }
        },
        "5d33318c65374cf9945e32dca13fc800": {
          "model_module": "@jupyter-widgets/controls",
          "model_name": "HBoxModel",
          "model_module_version": "1.5.0",
          "state": {
            "_dom_classes": [],
            "_model_module": "@jupyter-widgets/controls",
            "_model_module_version": "1.5.0",
            "_model_name": "HBoxModel",
            "_view_count": null,
            "_view_module": "@jupyter-widgets/controls",
            "_view_module_version": "1.5.0",
            "_view_name": "HBoxView",
            "box_style": "",
            "children": [
              "IPY_MODEL_d0733e1ad9db4fba8833a4dd2213f048",
              "IPY_MODEL_6afa7dc1c15943228f1fc1a3b6341f5a",
              "IPY_MODEL_4586d419636746a987091571f6c3303b"
            ],
            "layout": "IPY_MODEL_8e98a99b275e4d4e893f05e65ae4a4c5"
          }
        },
        "d0733e1ad9db4fba8833a4dd2213f048": {
          "model_module": "@jupyter-widgets/controls",
          "model_name": "HTMLModel",
          "model_module_version": "1.5.0",
          "state": {
            "_dom_classes": [],
            "_model_module": "@jupyter-widgets/controls",
            "_model_module_version": "1.5.0",
            "_model_name": "HTMLModel",
            "_view_count": null,
            "_view_module": "@jupyter-widgets/controls",
            "_view_module_version": "1.5.0",
            "_view_name": "HTMLView",
            "description": "",
            "description_tooltip": null,
            "layout": "IPY_MODEL_bf60bc11ab2848248f3c5f548d5de591",
            "placeholder": "​",
            "style": "IPY_MODEL_dd5319fc8d1c4eb6b1b9de34f69897ef",
            "value": "model.safetensors: 100%"
          }
        },
        "6afa7dc1c15943228f1fc1a3b6341f5a": {
          "model_module": "@jupyter-widgets/controls",
          "model_name": "FloatProgressModel",
          "model_module_version": "1.5.0",
          "state": {
            "_dom_classes": [],
            "_model_module": "@jupyter-widgets/controls",
            "_model_module_version": "1.5.0",
            "_model_name": "FloatProgressModel",
            "_view_count": null,
            "_view_module": "@jupyter-widgets/controls",
            "_view_module_version": "1.5.0",
            "_view_name": "ProgressView",
            "bar_style": "success",
            "description": "",
            "description_tooltip": null,
            "layout": "IPY_MODEL_1dc8837a2da946e08fb9fba98a26f2d6",
            "max": 345579424,
            "min": 0,
            "orientation": "horizontal",
            "style": "IPY_MODEL_957195597c1745c49f82481fc0fe2fc5",
            "value": 345579424
          }
        },
        "4586d419636746a987091571f6c3303b": {
          "model_module": "@jupyter-widgets/controls",
          "model_name": "HTMLModel",
          "model_module_version": "1.5.0",
          "state": {
            "_dom_classes": [],
            "_model_module": "@jupyter-widgets/controls",
            "_model_module_version": "1.5.0",
            "_model_name": "HTMLModel",
            "_view_count": null,
            "_view_module": "@jupyter-widgets/controls",
            "_view_module_version": "1.5.0",
            "_view_name": "HTMLView",
            "description": "",
            "description_tooltip": null,
            "layout": "IPY_MODEL_bc5b8120fecf4d52801d909c9b87c2fd",
            "placeholder": "​",
            "style": "IPY_MODEL_7c5a21c44654417ea6f1402dd1960ed0",
            "value": " 346M/346M [00:01&lt;00:00, 251MB/s]"
          }
        },
        "8e98a99b275e4d4e893f05e65ae4a4c5": {
          "model_module": "@jupyter-widgets/base",
          "model_name": "LayoutModel",
          "model_module_version": "1.2.0",
          "state": {
            "_model_module": "@jupyter-widgets/base",
            "_model_module_version": "1.2.0",
            "_model_name": "LayoutModel",
            "_view_count": null,
            "_view_module": "@jupyter-widgets/base",
            "_view_module_version": "1.2.0",
            "_view_name": "LayoutView",
            "align_content": null,
            "align_items": null,
            "align_self": null,
            "border": null,
            "bottom": null,
            "display": null,
            "flex": null,
            "flex_flow": null,
            "grid_area": null,
            "grid_auto_columns": null,
            "grid_auto_flow": null,
            "grid_auto_rows": null,
            "grid_column": null,
            "grid_gap": null,
            "grid_row": null,
            "grid_template_areas": null,
            "grid_template_columns": null,
            "grid_template_rows": null,
            "height": null,
            "justify_content": null,
            "justify_items": null,
            "left": null,
            "margin": null,
            "max_height": null,
            "max_width": null,
            "min_height": null,
            "min_width": null,
            "object_fit": null,
            "object_position": null,
            "order": null,
            "overflow": null,
            "overflow_x": null,
            "overflow_y": null,
            "padding": null,
            "right": null,
            "top": null,
            "visibility": null,
            "width": null
          }
        },
        "bf60bc11ab2848248f3c5f548d5de591": {
          "model_module": "@jupyter-widgets/base",
          "model_name": "LayoutModel",
          "model_module_version": "1.2.0",
          "state": {
            "_model_module": "@jupyter-widgets/base",
            "_model_module_version": "1.2.0",
            "_model_name": "LayoutModel",
            "_view_count": null,
            "_view_module": "@jupyter-widgets/base",
            "_view_module_version": "1.2.0",
            "_view_name": "LayoutView",
            "align_content": null,
            "align_items": null,
            "align_self": null,
            "border": null,
            "bottom": null,
            "display": null,
            "flex": null,
            "flex_flow": null,
            "grid_area": null,
            "grid_auto_columns": null,
            "grid_auto_flow": null,
            "grid_auto_rows": null,
            "grid_column": null,
            "grid_gap": null,
            "grid_row": null,
            "grid_template_areas": null,
            "grid_template_columns": null,
            "grid_template_rows": null,
            "height": null,
            "justify_content": null,
            "justify_items": null,
            "left": null,
            "margin": null,
            "max_height": null,
            "max_width": null,
            "min_height": null,
            "min_width": null,
            "object_fit": null,
            "object_position": null,
            "order": null,
            "overflow": null,
            "overflow_x": null,
            "overflow_y": null,
            "padding": null,
            "right": null,
            "top": null,
            "visibility": null,
            "width": null
          }
        },
        "dd5319fc8d1c4eb6b1b9de34f69897ef": {
          "model_module": "@jupyter-widgets/controls",
          "model_name": "DescriptionStyleModel",
          "model_module_version": "1.5.0",
          "state": {
            "_model_module": "@jupyter-widgets/controls",
            "_model_module_version": "1.5.0",
            "_model_name": "DescriptionStyleModel",
            "_view_count": null,
            "_view_module": "@jupyter-widgets/base",
            "_view_module_version": "1.2.0",
            "_view_name": "StyleView",
            "description_width": ""
          }
        },
        "1dc8837a2da946e08fb9fba98a26f2d6": {
          "model_module": "@jupyter-widgets/base",
          "model_name": "LayoutModel",
          "model_module_version": "1.2.0",
          "state": {
            "_model_module": "@jupyter-widgets/base",
            "_model_module_version": "1.2.0",
            "_model_name": "LayoutModel",
            "_view_count": null,
            "_view_module": "@jupyter-widgets/base",
            "_view_module_version": "1.2.0",
            "_view_name": "LayoutView",
            "align_content": null,
            "align_items": null,
            "align_self": null,
            "border": null,
            "bottom": null,
            "display": null,
            "flex": null,
            "flex_flow": null,
            "grid_area": null,
            "grid_auto_columns": null,
            "grid_auto_flow": null,
            "grid_auto_rows": null,
            "grid_column": null,
            "grid_gap": null,
            "grid_row": null,
            "grid_template_areas": null,
            "grid_template_columns": null,
            "grid_template_rows": null,
            "height": null,
            "justify_content": null,
            "justify_items": null,
            "left": null,
            "margin": null,
            "max_height": null,
            "max_width": null,
            "min_height": null,
            "min_width": null,
            "object_fit": null,
            "object_position": null,
            "order": null,
            "overflow": null,
            "overflow_x": null,
            "overflow_y": null,
            "padding": null,
            "right": null,
            "top": null,
            "visibility": null,
            "width": null
          }
        },
        "957195597c1745c49f82481fc0fe2fc5": {
          "model_module": "@jupyter-widgets/controls",
          "model_name": "ProgressStyleModel",
          "model_module_version": "1.5.0",
          "state": {
            "_model_module": "@jupyter-widgets/controls",
            "_model_module_version": "1.5.0",
            "_model_name": "ProgressStyleModel",
            "_view_count": null,
            "_view_module": "@jupyter-widgets/base",
            "_view_module_version": "1.2.0",
            "_view_name": "StyleView",
            "bar_color": null,
            "description_width": ""
          }
        },
        "bc5b8120fecf4d52801d909c9b87c2fd": {
          "model_module": "@jupyter-widgets/base",
          "model_name": "LayoutModel",
          "model_module_version": "1.2.0",
          "state": {
            "_model_module": "@jupyter-widgets/base",
            "_model_module_version": "1.2.0",
            "_model_name": "LayoutModel",
            "_view_count": null,
            "_view_module": "@jupyter-widgets/base",
            "_view_module_version": "1.2.0",
            "_view_name": "LayoutView",
            "align_content": null,
            "align_items": null,
            "align_self": null,
            "border": null,
            "bottom": null,
            "display": null,
            "flex": null,
            "flex_flow": null,
            "grid_area": null,
            "grid_auto_columns": null,
            "grid_auto_flow": null,
            "grid_auto_rows": null,
            "grid_column": null,
            "grid_gap": null,
            "grid_row": null,
            "grid_template_areas": null,
            "grid_template_columns": null,
            "grid_template_rows": null,
            "height": null,
            "justify_content": null,
            "justify_items": null,
            "left": null,
            "margin": null,
            "max_height": null,
            "max_width": null,
            "min_height": null,
            "min_width": null,
            "object_fit": null,
            "object_position": null,
            "order": null,
            "overflow": null,
            "overflow_x": null,
            "overflow_y": null,
            "padding": null,
            "right": null,
            "top": null,
            "visibility": null,
            "width": null
          }
        },
        "7c5a21c44654417ea6f1402dd1960ed0": {
          "model_module": "@jupyter-widgets/controls",
          "model_name": "DescriptionStyleModel",
          "model_module_version": "1.5.0",
          "state": {
            "_model_module": "@jupyter-widgets/controls",
            "_model_module_version": "1.5.0",
            "_model_name": "DescriptionStyleModel",
            "_view_count": null,
            "_view_module": "@jupyter-widgets/base",
            "_view_module_version": "1.2.0",
            "_view_name": "StyleView",
            "description_width": ""
          }
        },
        "286787f9ef96488f96511009ca88ac55": {
          "model_module": "@jupyter-widgets/controls",
          "model_name": "HBoxModel",
          "model_module_version": "1.5.0",
          "state": {
            "_dom_classes": [],
            "_model_module": "@jupyter-widgets/controls",
            "_model_module_version": "1.5.0",
            "_model_name": "HBoxModel",
            "_view_count": null,
            "_view_module": "@jupyter-widgets/controls",
            "_view_module_version": "1.5.0",
            "_view_name": "HBoxView",
            "box_style": "",
            "children": [
              "IPY_MODEL_3cacd6a3eb144ffc8793e23744bfa95e",
              "IPY_MODEL_c5e9e4ff62ef435fb6b40e5479723953",
              "IPY_MODEL_61ad2d56f42c450c9fa6aa1993bb862a"
            ],
            "layout": "IPY_MODEL_e48efa369a7f46f9a1eec0cadb8c51fc"
          }
        },
        "3cacd6a3eb144ffc8793e23744bfa95e": {
          "model_module": "@jupyter-widgets/controls",
          "model_name": "HTMLModel",
          "model_module_version": "1.5.0",
          "state": {
            "_dom_classes": [],
            "_model_module": "@jupyter-widgets/controls",
            "_model_module_version": "1.5.0",
            "_model_name": "HTMLModel",
            "_view_count": null,
            "_view_module": "@jupyter-widgets/controls",
            "_view_module_version": "1.5.0",
            "_view_name": "HTMLView",
            "description": "",
            "description_tooltip": null,
            "layout": "IPY_MODEL_f3a98dbb85974f2180c23252be49e0a1",
            "placeholder": "​",
            "style": "IPY_MODEL_93dcfb0863a445d1b5ab13d36b065bca",
            "value": "Downloading builder script: 100%"
          }
        },
        "c5e9e4ff62ef435fb6b40e5479723953": {
          "model_module": "@jupyter-widgets/controls",
          "model_name": "FloatProgressModel",
          "model_module_version": "1.5.0",
          "state": {
            "_dom_classes": [],
            "_model_module": "@jupyter-widgets/controls",
            "_model_module_version": "1.5.0",
            "_model_name": "FloatProgressModel",
            "_view_count": null,
            "_view_module": "@jupyter-widgets/controls",
            "_view_module_version": "1.5.0",
            "_view_name": "ProgressView",
            "bar_style": "success",
            "description": "",
            "description_tooltip": null,
            "layout": "IPY_MODEL_23a9d5de189044febf3ea262cb668640",
            "max": 6785,
            "min": 0,
            "orientation": "horizontal",
            "style": "IPY_MODEL_75f3f1b37471497fa2f72b5f41e4fded",
            "value": 6785
          }
        },
        "61ad2d56f42c450c9fa6aa1993bb862a": {
          "model_module": "@jupyter-widgets/controls",
          "model_name": "HTMLModel",
          "model_module_version": "1.5.0",
          "state": {
            "_dom_classes": [],
            "_model_module": "@jupyter-widgets/controls",
            "_model_module_version": "1.5.0",
            "_model_name": "HTMLModel",
            "_view_count": null,
            "_view_module": "@jupyter-widgets/controls",
            "_view_module_version": "1.5.0",
            "_view_name": "HTMLView",
            "description": "",
            "description_tooltip": null,
            "layout": "IPY_MODEL_445c042a3ebd4d488d41dc1428cd37d7",
            "placeholder": "​",
            "style": "IPY_MODEL_f2f7337344dd42138141d640109088a7",
            "value": " 6.79k/6.79k [00:00&lt;00:00, 693kB/s]"
          }
        },
        "e48efa369a7f46f9a1eec0cadb8c51fc": {
          "model_module": "@jupyter-widgets/base",
          "model_name": "LayoutModel",
          "model_module_version": "1.2.0",
          "state": {
            "_model_module": "@jupyter-widgets/base",
            "_model_module_version": "1.2.0",
            "_model_name": "LayoutModel",
            "_view_count": null,
            "_view_module": "@jupyter-widgets/base",
            "_view_module_version": "1.2.0",
            "_view_name": "LayoutView",
            "align_content": null,
            "align_items": null,
            "align_self": null,
            "border": null,
            "bottom": null,
            "display": null,
            "flex": null,
            "flex_flow": null,
            "grid_area": null,
            "grid_auto_columns": null,
            "grid_auto_flow": null,
            "grid_auto_rows": null,
            "grid_column": null,
            "grid_gap": null,
            "grid_row": null,
            "grid_template_areas": null,
            "grid_template_columns": null,
            "grid_template_rows": null,
            "height": null,
            "justify_content": null,
            "justify_items": null,
            "left": null,
            "margin": null,
            "max_height": null,
            "max_width": null,
            "min_height": null,
            "min_width": null,
            "object_fit": null,
            "object_position": null,
            "order": null,
            "overflow": null,
            "overflow_x": null,
            "overflow_y": null,
            "padding": null,
            "right": null,
            "top": null,
            "visibility": null,
            "width": null
          }
        },
        "f3a98dbb85974f2180c23252be49e0a1": {
          "model_module": "@jupyter-widgets/base",
          "model_name": "LayoutModel",
          "model_module_version": "1.2.0",
          "state": {
            "_model_module": "@jupyter-widgets/base",
            "_model_module_version": "1.2.0",
            "_model_name": "LayoutModel",
            "_view_count": null,
            "_view_module": "@jupyter-widgets/base",
            "_view_module_version": "1.2.0",
            "_view_name": "LayoutView",
            "align_content": null,
            "align_items": null,
            "align_self": null,
            "border": null,
            "bottom": null,
            "display": null,
            "flex": null,
            "flex_flow": null,
            "grid_area": null,
            "grid_auto_columns": null,
            "grid_auto_flow": null,
            "grid_auto_rows": null,
            "grid_column": null,
            "grid_gap": null,
            "grid_row": null,
            "grid_template_areas": null,
            "grid_template_columns": null,
            "grid_template_rows": null,
            "height": null,
            "justify_content": null,
            "justify_items": null,
            "left": null,
            "margin": null,
            "max_height": null,
            "max_width": null,
            "min_height": null,
            "min_width": null,
            "object_fit": null,
            "object_position": null,
            "order": null,
            "overflow": null,
            "overflow_x": null,
            "overflow_y": null,
            "padding": null,
            "right": null,
            "top": null,
            "visibility": null,
            "width": null
          }
        },
        "93dcfb0863a445d1b5ab13d36b065bca": {
          "model_module": "@jupyter-widgets/controls",
          "model_name": "DescriptionStyleModel",
          "model_module_version": "1.5.0",
          "state": {
            "_model_module": "@jupyter-widgets/controls",
            "_model_module_version": "1.5.0",
            "_model_name": "DescriptionStyleModel",
            "_view_count": null,
            "_view_module": "@jupyter-widgets/base",
            "_view_module_version": "1.2.0",
            "_view_name": "StyleView",
            "description_width": ""
          }
        },
        "23a9d5de189044febf3ea262cb668640": {
          "model_module": "@jupyter-widgets/base",
          "model_name": "LayoutModel",
          "model_module_version": "1.2.0",
          "state": {
            "_model_module": "@jupyter-widgets/base",
            "_model_module_version": "1.2.0",
            "_model_name": "LayoutModel",
            "_view_count": null,
            "_view_module": "@jupyter-widgets/base",
            "_view_module_version": "1.2.0",
            "_view_name": "LayoutView",
            "align_content": null,
            "align_items": null,
            "align_self": null,
            "border": null,
            "bottom": null,
            "display": null,
            "flex": null,
            "flex_flow": null,
            "grid_area": null,
            "grid_auto_columns": null,
            "grid_auto_flow": null,
            "grid_auto_rows": null,
            "grid_column": null,
            "grid_gap": null,
            "grid_row": null,
            "grid_template_areas": null,
            "grid_template_columns": null,
            "grid_template_rows": null,
            "height": null,
            "justify_content": null,
            "justify_items": null,
            "left": null,
            "margin": null,
            "max_height": null,
            "max_width": null,
            "min_height": null,
            "min_width": null,
            "object_fit": null,
            "object_position": null,
            "order": null,
            "overflow": null,
            "overflow_x": null,
            "overflow_y": null,
            "padding": null,
            "right": null,
            "top": null,
            "visibility": null,
            "width": null
          }
        },
        "75f3f1b37471497fa2f72b5f41e4fded": {
          "model_module": "@jupyter-widgets/controls",
          "model_name": "ProgressStyleModel",
          "model_module_version": "1.5.0",
          "state": {
            "_model_module": "@jupyter-widgets/controls",
            "_model_module_version": "1.5.0",
            "_model_name": "ProgressStyleModel",
            "_view_count": null,
            "_view_module": "@jupyter-widgets/base",
            "_view_module_version": "1.2.0",
            "_view_name": "StyleView",
            "bar_color": null,
            "description_width": ""
          }
        },
        "445c042a3ebd4d488d41dc1428cd37d7": {
          "model_module": "@jupyter-widgets/base",
          "model_name": "LayoutModel",
          "model_module_version": "1.2.0",
          "state": {
            "_model_module": "@jupyter-widgets/base",
            "_model_module_version": "1.2.0",
            "_model_name": "LayoutModel",
            "_view_count": null,
            "_view_module": "@jupyter-widgets/base",
            "_view_module_version": "1.2.0",
            "_view_name": "LayoutView",
            "align_content": null,
            "align_items": null,
            "align_self": null,
            "border": null,
            "bottom": null,
            "display": null,
            "flex": null,
            "flex_flow": null,
            "grid_area": null,
            "grid_auto_columns": null,
            "grid_auto_flow": null,
            "grid_auto_rows": null,
            "grid_column": null,
            "grid_gap": null,
            "grid_row": null,
            "grid_template_areas": null,
            "grid_template_columns": null,
            "grid_template_rows": null,
            "height": null,
            "justify_content": null,
            "justify_items": null,
            "left": null,
            "margin": null,
            "max_height": null,
            "max_width": null,
            "min_height": null,
            "min_width": null,
            "object_fit": null,
            "object_position": null,
            "order": null,
            "overflow": null,
            "overflow_x": null,
            "overflow_y": null,
            "padding": null,
            "right": null,
            "top": null,
            "visibility": null,
            "width": null
          }
        },
        "f2f7337344dd42138141d640109088a7": {
          "model_module": "@jupyter-widgets/controls",
          "model_name": "DescriptionStyleModel",
          "model_module_version": "1.5.0",
          "state": {
            "_model_module": "@jupyter-widgets/controls",
            "_model_module_version": "1.5.0",
            "_model_name": "DescriptionStyleModel",
            "_view_count": null,
            "_view_module": "@jupyter-widgets/base",
            "_view_module_version": "1.2.0",
            "_view_name": "StyleView",
            "description_width": ""
          }
        }
      }
    }
  },
  "nbformat": 4,
  "nbformat_minor": 5
}